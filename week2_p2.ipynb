{
  "nbformat": 4,
  "nbformat_minor": 0,
  "metadata": {
    "colab": {
      "provenance": []
    },
    "kernelspec": {
      "name": "python3",
      "display_name": "Python 3"
    },
    "language_info": {
      "name": "python"
    }
  },
  "cells": [
    {
      "cell_type": "code",
      "execution_count": null,
      "metadata": {
        "colab": {
          "base_uri": "https://localhost:8080/"
        },
        "id": "t3-nGQTOCKDp",
        "outputId": "ca2bbc75-fae0-44e4-b629-f86e149a4ade"
      },
      "outputs": [
        {
          "output_type": "stream",
          "name": "stdout",
          "text": [
            "Enter your first name: rohit\n",
            "Enter your last name: raj\n",
            "Preferred nickname style (short, fun, formal): fun\n",
            "\n",
            "Generated Nicknames:\n",
            "1. rohraj\n",
            "2. rajhit\n",
            "3. rohitraj\n",
            "4. rajrohit\n",
            "5. RohitTheGreat\n",
            "6. xX_roaj_Xx\n",
            "7. ROaj84\n",
            "Do you want to save these nicknames? (y/n): y\n",
            "Nicknames saved to nicknames.txt\n"
          ]
        }
      ],
      "source": [
        "import random\n",
        "\n",
        "def generate_nicknames(first_name, last_name, style=\"fun\"):\n",
        "    nicknames = []\n",
        "\n",
        "    nicknames.append(first_name[:3] + last_name[-3:])\n",
        "    nicknames.append(last_name[:3] + first_name[-3:])\n",
        "    nicknames.append(first_name + last_name)\n",
        "    nicknames.append(last_name + first_name)\n",
        "\n",
        "    if style == \"fun\":\n",
        "        nicknames.append(first_name.capitalize() + random.choice([\"Master\", \"TheGreat\", \"_X\"]))\n",
        "        nicknames.append(\"xX_\" + first_name[:2] + last_name[-2:] + \"_Xx\")\n",
        "        nicknames.append(first_name[:2].upper() + last_name[-2:].lower() + str(random.randint(10, 99)))\n",
        "    elif style == \"short\":\n",
        "        nicknames.append(first_name[:2] + last_name[:2])\n",
        "    elif style == \"formal\":\n",
        "        nicknames.append(f\"{first_name} {last_name}\")\n",
        "    else:\n",
        "        nicknames.append(first_name + last_name)\n",
        "\n",
        "    return nicknames\n",
        "\n",
        "def save_nicknames(nicknames):\n",
        "    with open(\"nicknames.txt\", \"w\") as file:\n",
        "        for nick in nicknames:\n",
        "            file.write(nick + \"\\n\")\n",
        "    print(\"Nicknames saved to nicknames.txt\")\n",
        "\n",
        "def main():\n",
        "    first = input(\"Enter your first name: \").strip()\n",
        "    last = input(\"Enter your last name: \").strip()\n",
        "    style = input(\"Preferred nickname style (short, fun, formal): \").strip().lower()\n",
        "\n",
        "    nicks = generate_nicknames(first, last, style)\n",
        "\n",
        "    print(\"\\nGenerated Nicknames:\")\n",
        "    for i, nick in enumerate(nicks, 1):\n",
        "        print(f\"{i}. {nick}\")\n",
        "\n",
        "    if input(\"Do you want to save these nicknames? (y/n): \").lower() == 'y':\n",
        "        save_nicknames(nicks)\n",
        "\n",
        "if __name__ == \"__main__\":\n",
        "    main()\n"
      ]
    }
  ]
}